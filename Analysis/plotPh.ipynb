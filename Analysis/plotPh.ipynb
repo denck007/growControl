{
 "cells": [
  {
   "cell_type": "markdown",
   "metadata": {},
   "source": [
    "# Look at the pH of the system"
   ]
  },
  {
   "cell_type": "code",
   "execution_count": null,
   "metadata": {},
   "outputs": [],
   "source": [
    "import os\n",
    "import datetime\n",
    "import pandas as pd\n",
    "import matplotlib.pyplot as plt\n",
    "%matplotlib inline"
   ]
  },
  {
   "cell_type": "code",
   "execution_count": null,
   "metadata": {},
   "outputs": [],
   "source": [
    "!rsync -aP pi@192.168.0.15:growControl_Data/* ~/growControl_Data"
   ]
  },
  {
   "cell_type": "code",
   "execution_count": null,
   "metadata": {},
   "outputs": [],
   "source": [
    "desktop_root_path = \"/home/neil/\"\n",
    "pi_root_path = \"/home/pi/\"\n",
    "if os.path.isdir(desktop_root_path):\n",
    "    data_path = os.path.join(desktop_root_path,\"growControl_Data\")\n",
    "    analysis_path = os.path.join(desktop_root_path,\"growControl\",\"Analysis\")\n",
    "elif os.path.isdir(pi_root_path):\n",
    "    data_path = os.path.join(pi_path,\"growControl_Data\")\n",
    "    analysis_path = os.path.join(pi_path,\"growControl\",\"Analysis\")\n",
    "else:\n",
    "    raise FileNotFoundError(\"No valid path to the data was found!\")"
   ]
  },
  {
   "cell_type": "code",
   "execution_count": null,
   "metadata": {},
   "outputs": [],
   "source": [
    "data_files = {}\n",
    "for d in os.listdir(data_path):\n",
    "    if not os.path.isfile(os.path.join(data_path,d)):\n",
    "        continue\n",
    "    root = d[:d.rfind(\"_\")]\n",
    "    full_path = os.path.join(data_path,d)\n",
    "    if root not in data_files:\n",
    "        data_files[root] = [full_path]\n",
    "    else:\n",
    "        data_files[root].append(full_path)\n",
    "\n",
    "for key in data_files:\n",
    "    print(key)\n",
    "    print(\"\\t{}\".format(data_files[key][0]))\n",
    "    print(\"\\t{}\".format(data_files[key][-1]))\n",
    "    #for file in data_files[key]:\n",
    "    #    print(\"\\t{}\".format(file))"
   ]
  },
  {
   "cell_type": "code",
   "execution_count": null,
   "metadata": {},
   "outputs": [],
   "source": [
    "def load_df(root_name):\n",
    "    li = []\n",
    "    for fname in sorted(data_files[root_name])[-20:]:\n",
    "        df_temp = pd.read_csv(fname,index_col=None,header=0,skiprows=lambda x: (x!=0) and not x%10)\n",
    "        li.append(df_temp)\n",
    "    df = pd.concat(li,axis=0,ignore_index=True)\n",
    "    \n",
    "    for column in df.columns:\n",
    "        df = df[df[column] != \"None\"]\n",
    "        if column != \"datetime_timezone\":\n",
    "            df[column] = df[column].astype(float)\n",
    "        \n",
    "    df[\"datetime_timezone\"] = pd.to_datetime(df[\"datetime_timezone\"])\n",
    "    df.sort_values(\"datetime_timezone\",inplace=True)\n",
    "    df.reset_index(inplace=True,drop=True)\n",
    "    return df"
   ]
  },
  {
   "cell_type": "code",
   "execution_count": null,
   "metadata": {},
   "outputs": [],
   "source": [
    "df_ph = load_df(\"sensor_ph_bin1\")\n",
    "df_control_ph = load_df(\"controller_ph_pump\")\n",
    "\n",
    "#plt.rcParams[\"figure.figsize\"] = (50,25)\n",
    "plt.rcParams[\"figure.figsize\"] = (20,10)\n",
    "fig, ax1 = plt.subplots()\n",
    "ax1.set_xlabel(\"Date\")\n",
    "ax1.set_ylabel(\"pH\")\n",
    "\n",
    "ax1.plot(df_ph[\"datetime_timezone\"],df_ph[\"ph_raw\"],label=\"raw\")\n",
    "ax1.plot(df_ph[\"datetime_timezone\"],df_ph[\"ph_avg\"],label=\"ph_avg\")\n",
    "\n",
    "#ax1.plot(df_ph[\"datetime\"],df_ph[\"ph_avg_ewm_.1\"],label=\"average_factor=0.9 => Current Value\")\n",
    "#ax1.plot(df_ph[\"datetime\"],df_ph[\"ph_avg_ewm_.01\"],label=\"average_factor=0.99 => Changing To\")\n",
    "#ax1.plot(df_ph[\"datetime\"],df_ph[\"ph_avg_ewm_.001\"],label=\"average_factor=0.999\")\n",
    "\n",
    "datetime_minmax = [df_ph[\"datetime_timezone\"].min(),df_ph[\"datetime_timezone\"].max()]\n",
    "ax1.plot(datetime_minmax,[5.8,5.8],label=\"pH Min\")\n",
    "ax1.plot(datetime_minmax,[6.2,6.2],label=\"pH Max\")\n",
    "\n",
    "ax1.legend(loc=\"upper left\")\n",
    "ax1.minorticks_on()\n",
    "ax1.grid(True,which=\"major\",linewidth=1)\n",
    "ax1.grid(True,which=\"minor\",linewidth=.5)\n",
    "plt.ylim((5.5,8.))\n",
    "plt.xlim(datetime_minmax)\n",
    "\n",
    "ax2 = ax1.twinx()\n",
    "ax2.set_ylabel(\"pH Adjustment Volume\\n[ml]\")\n",
    "ax2.plot(df_control_ph[\"datetime_timezone\"],df_control_ph[\"ph_down_volume\"],'r',alpha=.2,label=\"pH Down\")\n",
    "ax2.plot(df_control_ph[\"datetime_timezone\"],df_control_ph[\"ph_up_volume\"],'b',alpha=.2,label=\"pH Up\")\n",
    "ax2.legend(loc=\"upper right\")\n",
    "plt.ylim((0,2.0))\n",
    "plt.xlim(datetime_minmax)\n",
    "plt.savefig(os.path.join(analysis_path,\"ph_data_{}.png\".format(datetime.datetime.now().strftime(\"%Y%m%dT%H%M%S\"))))\n",
    "plt.show()"
   ]
  },
  {
   "cell_type": "code",
   "execution_count": null,
   "metadata": {},
   "outputs": [],
   "source": [
    "def plotData(dataFrames,listOfColumnsInDataFrames):\n",
    "    \n",
    "    \n",
    "    plt.rcParams[\"figure.figsize\"] = (20,10)\n",
    "    fig, ax1 = plt.subplots()\n",
    "    ax1.set_xlabel(\"Date\")\n",
    "    \n",
    "    y_lim = None\n",
    "    \n",
    "    for df,columns in zip(dataFrames,listOfColumnsInDataFrames):\n",
    "        ax1.set_ylabel(columns)\n",
    "        for column in columns:\n",
    "            ax1.plot(df[\"datetime_timezone\"],df[column],label=column)\n",
    "            if y_lim is None:\n",
    "                y_lim = [df[column].min(),df[column].max()]\n",
    "            else:\n",
    "                y_lim[0] = min(y_lim[0],df[column].min())\n",
    "                y_lim[1] = min(y_lim[1],df[column].max())\n",
    "    \n",
    "    datetime_minmax = [df[\"datetime_timezone\"].min(),df[\"datetime_timezone\"].max()]\n",
    "    plt.xlim(datetime_minmax)\n",
    "    \n",
    "    delta = y_lim[1]-y_lim[0]\n",
    "    y_lim = [y_lim[0]-.1*delta,y_lim[1]+.1*delta]\n",
    "    plt.ylim(y_lim)\n",
    "    \n",
    "    ax1.minorticks_on()\n",
    "    ax1.grid(True,which=\"major\",linewidth=1)\n",
    "    ax1.grid(True,which=\"minor\",linewidth=.5)\n",
    "    \n",
    "    \n",
    "    ax1.legend(loc=\"upper right\")\n",
    "    plt.show()"
   ]
  },
  {
   "cell_type": "code",
   "execution_count": null,
   "metadata": {},
   "outputs": [],
   "source": [
    "humidity_temp_ambient = load_df(\"humidity_temp_ambient\")\n",
    "humidity_temp_grow = load_df(\"humidity_temp_grow\")\n",
    "\n",
    "plotData([humidity_temp_ambient,humidity_temp_grow],[[\"temperature_raw\"],[\"temperature_raw\"]])"
   ]
  },
  {
   "cell_type": "code",
   "execution_count": null,
   "metadata": {},
   "outputs": [],
   "source": [
    "humidity_temp_ambient = load_df(\"humidity_temp_ambient\")\n",
    "humidity_temp_grow = load_df(\"humidity_temp_grow\")\n",
    "\n",
    "plotData([humidity_temp_ambient,humidity_temp_grow],[[\"relative_humidity_raw\"],[\"relative_humidity_raw\"]])"
   ]
  },
  {
   "cell_type": "code",
   "execution_count": null,
   "metadata": {},
   "outputs": [],
   "source": [
    "volume = load_df(\"sensor_volume\")\n",
    "\n",
    "plotData([volume],[[\"volume_raw\",\"volume_avg\"]])"
   ]
  },
  {
   "cell_type": "code",
   "execution_count": null,
   "metadata": {},
   "outputs": [],
   "source": []
  }
 ],
 "metadata": {
  "kernelspec": {
   "display_name": "Python 3",
   "language": "python",
   "name": "python3"
  },
  "language_info": {
   "codemirror_mode": {
    "name": "ipython",
    "version": 3
   },
   "file_extension": ".py",
   "mimetype": "text/x-python",
   "name": "python",
   "nbconvert_exporter": "python",
   "pygments_lexer": "ipython3",
   "version": "3.7.3"
  }
 },
 "nbformat": 4,
 "nbformat_minor": 4
}
