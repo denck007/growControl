{
 "cells": [
  {
   "cell_type": "markdown",
   "metadata": {},
   "source": [
    "# Reformat the data files\n",
    "The data file format and naming changed slightly on 3/22 This script will parse through and make the changes\n",
    "* Controller only saves when something happens\n",
    "* 1 file per day, instead of 1 file created on startup\n",
    "* Humidity and Temperature data are in same file instead of separate ones\n",
    "* Removed one of the datetime columns, there is no reason to have 2 datetimes (one with and one without timezone)\n",
    "* Names of files changed slightly"
   ]
  },
  {
   "cell_type": "code",
   "execution_count": 1,
   "metadata": {},
   "outputs": [],
   "source": [
    "import os\n",
    "import datetime\n",
    "import pytz\n",
    "import pandas as pd\n"
   ]
  },
  {
   "cell_type": "code",
   "execution_count": 2,
   "metadata": {},
   "outputs": [],
   "source": [
    "source_data_dir = \"/home/neil/growControl_Data/\"\n",
    "migrated_data_dir = \"/home/neil/growControl_Data/migrated\"\n",
    "\n",
    "source_data_files = [fname for fname in os.listdir(source_data_dir) if fname[-3:] == \"csv\"]\n",
    "source_data_files = sorted(source_data_files)"
   ]
  },
  {
   "cell_type": "code",
   "execution_count": 3,
   "metadata": {},
   "outputs": [],
   "source": [
    "def create_date(dt):\n",
    "    '''\n",
    "    Function to create a date from datetime object for each row in a dataframe\n",
    "    '''\n",
    "    return dt.date()\n",
    "\n"
   ]
  },
  {
   "cell_type": "code",
   "execution_count": 4,
   "metadata": {},
   "outputs": [
    {
     "name": "stdout",
     "output_type": "stream",
     "text": [
      "Original lines: 583583 New DataFrame Size: 583583 These must match!\n",
      "Reduced size: 694\n",
      "Total volume dispensed: 1658.0\n"
     ]
    }
   ],
   "source": [
    "controller_files = [fname for fname in source_data_files if \"Controller_ph_pump\" in fname]\n",
    "\n",
    "original_lines = 0\n",
    "df = None\n",
    "for fname in controller_files:\n",
    "    data = pd.read_csv(os.path.join(source_data_dir,fname),index_col=\"time\")\n",
    "    original_lines += len(data)\n",
    "    #print(\"total dispensed: {}\".format(data.ph_down_volume.sum()+data.ph_up_volume.sum()))\n",
    "    if df is None:\n",
    "        df = data\n",
    "    else:\n",
    "        df = df.append(data)\n",
    "print(\"Original lines: {} New DataFrame Size: {} These must match!\".format(original_lines,len(df)))\n",
    "if original_lines != len(df):\n",
    "    raise ValueError(\"Some data was not copied from the original format to the new format!\")\n",
    "\n",
    "        \n",
    "df = df[(df.ph_down_volume!=0.0) | (df.ph_up_volume!=0.0)]\n",
    "print(\"Reduced size: {}\".format(len(df)))\n",
    "print(\"Total volume dispensed: {}\".format(df.ph_down_volume.sum()+df.ph_up_volume.sum()))\n",
    "\n",
    "# Remove the extra datetime column\n",
    "df = df.drop(axis=1,columns=\"datetime\")\n",
    "\n",
    "# convert datetime_timezone to a datetime object\n",
    "df[\"datetime_timezone\"] = pd.to_datetime(df[\"datetime_timezone\"])\n",
    "\n",
    "# Get the date for each row so we can filter on them\n",
    "dates = df[\"datetime_timezone\"].apply(create_date)\n",
    "\n",
    "tzinfo = datetime.datetime.now(pytz.timezone('America/Chicago')).tzinfo\n",
    "for date in dates.unique():\n",
    "    start_date = datetime.datetime(year=date.year,month=date.month,day=date.day,tzinfo=tzinfo)\n",
    "    if start_date < datetime.datetime(year=2020,month=3,day=8,tzinfo=tzinfo):\n",
    "        start_date = start_date + datetime.timedelta(hours=1)\n",
    "    end_date = start_date + datetime.timedelta(days=1)\n",
    "    day_data = df[(df[\"datetime_timezone\"]>=start_date) & (df[\"datetime_timezone\"]<end_date)]\n",
    "    \n",
    "    fname = \"controller_ph_pump_{:04d}-{:02d}-{:02d}.csv\".format(date.year,date.month,date.day)\n",
    "    with open(os.path.join(migrated_data_dir,fname),'w') as fp:\n",
    "        day_data.to_csv(fp)"
   ]
  },
  {
   "cell_type": "markdown",
   "metadata": {},
   "source": [
    "# Sensor_ph Data"
   ]
  },
  {
   "cell_type": "code",
   "execution_count": 5,
   "metadata": {},
   "outputs": [
    {
     "name": "stdout",
     "output_type": "stream",
     "text": [
      "Original lines: 303542 New DataFrame Size: 303542 These must match!\n",
      "Done!\n"
     ]
    }
   ],
   "source": [
    "ph_files = [fname for fname in source_data_files if fname[:3] == \"ph_\"]\n",
    "\n",
    "original_lines = 0\n",
    "df = None\n",
    "for fname in ph_files:\n",
    "    data = pd.read_csv(os.path.join(source_data_dir,fname),index_col=\"time\")\n",
    "    original_lines += len(data)\n",
    "    if df is None:\n",
    "        df = data\n",
    "    else:\n",
    "        df = df.append(data)\n",
    "print(\"Original lines: {} New DataFrame Size: {} These must match!\".format(original_lines,len(df)))\n",
    "\n",
    "# Remove the extra datetime column\n",
    "df = df.drop(axis=1,columns=\"datetime\")\n",
    "\n",
    "#df = df[df.index<1581745864+1000]\n",
    "\n",
    "# convert datetime_timezone to a datetime object\n",
    "df[\"datetime_timezone\"] = pd.to_datetime(df[\"datetime_timezone\"])\n",
    "\n",
    "\n",
    "# Get the date for each row so we can filter on them\n",
    "dates = df[\"datetime_timezone\"].apply(create_date)\n",
    "\n",
    "tzinfo = datetime.datetime.now(pytz.timezone('America/Chicago')).tzinfo\n",
    "\n",
    "for date in dates.unique():\n",
    "    start_date = datetime.datetime(year=date.year,month=date.month,day=date.day,tzinfo=tzinfo)\n",
    "    if start_date < datetime.datetime(year=2020,month=3,day=8,tzinfo=tzinfo):\n",
    "        start_date = start_date + datetime.timedelta(hours=1)\n",
    "    end_date = start_date + datetime.timedelta(days=1)\n",
    "    day_data = df[(df[\"datetime_timezone\"]>=start_date) & (df[\"datetime_timezone\"]<end_date)]\n",
    "    \n",
    "    fname = \"sensor_ph_bin1_{:04d}-{:02d}-{:02d}.csv\".format(date.year,date.month,date.day)\n",
    "    with open(os.path.join(migrated_data_dir,fname),'w') as fp:\n",
    "        day_data.to_csv(fp)\n",
    "print(\"Done!\")"
   ]
  },
  {
   "cell_type": "markdown",
   "metadata": {},
   "source": [
    "# Humidity and Temp Data"
   ]
  },
  {
   "cell_type": "code",
   "execution_count": 7,
   "metadata": {},
   "outputs": [],
   "source": [
    "def round_time(t):\n",
    "    '''\n",
    "    Round the time value so it can be merged\n",
    "    '''\n",
    "    return round(t,0)"
   ]
  },
  {
   "cell_type": "code",
   "execution_count": 13,
   "metadata": {},
   "outputs": [
    {
     "name": "stdout",
     "output_type": "stream",
     "text": [
      "Original lines: 262084 New DataFrame Size: 262084 These must match!\n",
      "Original lines: 262086 New DataFrame Size: 262086 These must match!\n",
      "Joined size: 262084\n",
      "datetime_timezone            262084\n",
      "relative_humidity_raw        262084\n",
      "relative_humidity_average    262084\n",
      "temperature_raw              252454\n",
      "temperature_average          252454\n",
      "dtype: int64\n",
      "Done!\n"
     ]
    }
   ],
   "source": [
    "humidity_files = [fname for fname in source_data_files if \"humidity_ambient\" in fname]\n",
    "temperature_files = [fname for fname in source_data_files if \"temp_ambient\" in fname]\n",
    "\n",
    "original_lines = 0\n",
    "df = None\n",
    "for fname in humidity_files:\n",
    "    data = pd.read_csv(os.path.join(source_data_dir,fname))#,index_col=\"time\")\n",
    "    data[\"time\"] = data[\"time\"].apply(round_time)\n",
    "    original_lines += len(data)\n",
    "    if df is None:\n",
    "        df = data\n",
    "    else:\n",
    "        df = df.append(data)\n",
    "df = df.set_index(\"time\")\n",
    "# Remove the extra datetime column\n",
    "df = df.drop(axis=1,columns=\"datetime\")\n",
    "\n",
    "print(\"Original lines: {} New DataFrame Size: {} These must match!\".format(original_lines,len(df)))\n",
    "\n",
    "original_lines = 0\n",
    "df_temp = None\n",
    "for fname in temperature_files:\n",
    "    data = pd.read_csv(os.path.join(source_data_dir,fname))#,index_col=\"time\")\n",
    "    data[\"time\"] = data[\"time\"].apply(round_time)\n",
    "    original_lines += len(data)\n",
    "    if df_temp is None:\n",
    "        df_temp = data\n",
    "    else:\n",
    "        df_temp = df_temp.append(data)\n",
    "df_temp = df_temp.set_index(\"time\")\n",
    "\n",
    "# Remove the duplicate columns from the tempertuare DF\n",
    "df_temp = df_temp.drop(axis=1,columns=\"datetime\")\n",
    "df_temp = df_temp.drop(axis=1,columns=\"datetime_timezone\")\n",
    "\n",
    "print(\"Original lines: {} New DataFrame Size: {} These must match!\".format(original_lines,len(df_temp)))\n",
    "\n",
    "df = df.join(df_temp,on=\"time\")\n",
    "print(\"Joined size: {}\".format(len(df)))\n",
    "print(df.count())\n",
    "\n",
    "# convert datetime_timezone to a datetime object\n",
    "df[\"datetime_timezone\"] = pd.to_datetime(df[\"datetime_timezone\"])\n",
    "\n",
    "# Get the date for each row so we can filter on them\n",
    "dates = df[\"datetime_timezone\"].apply(create_date)\n",
    "\n",
    "tzinfo = datetime.datetime.now(pytz.timezone('America/Chicago')).tzinfo\n",
    "\n",
    "for date in dates.unique():\n",
    "    start_date = datetime.datetime(year=date.year,month=date.month,day=date.day,tzinfo=tzinfo)\n",
    "    if start_date < datetime.datetime(year=2020,month=3,day=8,tzinfo=tzinfo):\n",
    "        start_date = start_date + datetime.timedelta(hours=1)\n",
    "    end_date = start_date + datetime.timedelta(days=1)\n",
    "    day_data = df[(df[\"datetime_timezone\"]>=start_date) & (df[\"datetime_timezone\"]<end_date)]\n",
    "    \n",
    "    fname = \"humidity_temp_ambient_{:04d}-{:02d}-{:02d}.csv\".format(date.year,date.month,date.day)\n",
    "    with open(os.path.join(migrated_data_dir,fname),'w') as fp:\n",
    "        day_data.to_csv(fp)\n",
    "print(\"Done!\")"
   ]
  },
  {
   "cell_type": "code",
   "execution_count": 14,
   "metadata": {},
   "outputs": [
    {
     "name": "stdout",
     "output_type": "stream",
     "text": [
      "Original lines: 101689 New DataFrame Size: 101689 These must match!\n",
      "Original lines: 101689 New DataFrame Size: 101689 These must match!\n",
      "Joined size: 101689\n",
      "datetime_timezone            101689\n",
      "relative_humidity_raw        101689\n",
      "relative_humidity_average    101689\n",
      "temperature_raw               97808\n",
      "temperature_average           97808\n",
      "dtype: int64\n",
      "Done!\n"
     ]
    }
   ],
   "source": [
    "humidity_files = [fname for fname in source_data_files if \"humidity_grow\" in fname]\n",
    "temperature_files = [fname for fname in source_data_files if \"temp_grow\" in fname]\n",
    "\n",
    "original_lines = 0\n",
    "df = None\n",
    "for fname in humidity_files:\n",
    "    data = pd.read_csv(os.path.join(source_data_dir,fname))#,index_col=\"time\")\n",
    "    data[\"time\"] = data[\"time\"].apply(round_time)\n",
    "    original_lines += len(data)\n",
    "    if df is None:\n",
    "        df = data\n",
    "    else:\n",
    "        df = df.append(data)\n",
    "df = df.set_index(\"time\")\n",
    "# Remove the extra datetime column\n",
    "df = df.drop(axis=1,columns=\"datetime\")\n",
    "\n",
    "print(\"Original lines: {} New DataFrame Size: {} These must match!\".format(original_lines,len(df)))\n",
    "\n",
    "original_lines = 0\n",
    "df_temp = None\n",
    "for fname in temperature_files:\n",
    "    data = pd.read_csv(os.path.join(source_data_dir,fname))#,index_col=\"time\")\n",
    "    data[\"time\"] = data[\"time\"].apply(round_time)\n",
    "    original_lines += len(data)\n",
    "    if df_temp is None:\n",
    "        df_temp = data\n",
    "    else:\n",
    "        df_temp = df_temp.append(data)\n",
    "df_temp = df_temp.set_index(\"time\")\n",
    "\n",
    "# Remove the duplicate columns from the tempertuare DF\n",
    "df_temp = df_temp.drop(axis=1,columns=\"datetime\")\n",
    "df_temp = df_temp.drop(axis=1,columns=\"datetime_timezone\")\n",
    "\n",
    "print(\"Original lines: {} New DataFrame Size: {} These must match!\".format(original_lines,len(df_temp)))\n",
    "\n",
    "df = df.join(df_temp,on=\"time\")\n",
    "print(\"Joined size: {}\".format(len(df)))\n",
    "print(df.count())\n",
    "\n",
    "# convert datetime_timezone to a datetime object\n",
    "df[\"datetime_timezone\"] = pd.to_datetime(df[\"datetime_timezone\"])\n",
    "\n",
    "# Get the date for each row so we can filter on them\n",
    "dates = df[\"datetime_timezone\"].apply(create_date)\n",
    "\n",
    "tzinfo = datetime.datetime.now(pytz.timezone('America/Chicago')).tzinfo\n",
    "\n",
    "for date in dates.unique():\n",
    "    start_date = datetime.datetime(year=date.year,month=date.month,day=date.day,tzinfo=tzinfo)\n",
    "    if start_date < datetime.datetime(year=2020,month=3,day=8,tzinfo=tzinfo):\n",
    "        start_date = start_date + datetime.timedelta(hours=1)\n",
    "    end_date = start_date + datetime.timedelta(days=1)\n",
    "    day_data = df[(df[\"datetime_timezone\"]>=start_date) & (df[\"datetime_timezone\"]<end_date)]\n",
    "    \n",
    "    fname = \"humidity_temp_grow_{:04d}-{:02d}-{:02d}.csv\".format(date.year,date.month,date.day)\n",
    "    with open(os.path.join(migrated_data_dir,fname),'w') as fp:\n",
    "        day_data.to_csv(fp)\n",
    "print(\"Done!\")"
   ]
  }
 ],
 "metadata": {
  "kernelspec": {
   "display_name": "Python 3",
   "language": "python",
   "name": "python3"
  },
  "language_info": {
   "codemirror_mode": {
    "name": "ipython",
    "version": 3
   },
   "file_extension": ".py",
   "mimetype": "text/x-python",
   "name": "python",
   "nbconvert_exporter": "python",
   "pygments_lexer": "ipython3",
   "version": "3.6.9"
  }
 },
 "nbformat": 4,
 "nbformat_minor": 4
}
